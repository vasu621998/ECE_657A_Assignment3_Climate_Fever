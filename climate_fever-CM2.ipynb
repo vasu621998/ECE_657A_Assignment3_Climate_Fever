{
 "cells": [
  {
   "cell_type": "markdown",
   "id": "presidential-poetry",
   "metadata": {},
   "source": [
    "# <div align=\"center\">CM2</div>\n",
    "\n",
    "\n",
    "###  2.1 Required Libraries\n"
   ]
  },
  {
   "cell_type": "code",
   "execution_count": 20,
   "id": "relevant-preserve",
   "metadata": {},
   "outputs": [],
   "source": [
    "import pandas as pd\n",
    "import numpy as np\n",
    "from sklearn.model_selection import train_test_split\n",
    "from gensim.models import Word2Vec\n",
    "from nltk.tokenize import sent_tokenize, word_tokenize\n",
    "import gensim.downloader as api\n",
    "from datasets import load_dataset\n",
    "import re\n",
    "from nltk.stem.porter import PorterStemmer\n",
    "from nltk.corpus import stopwords\n",
    "import nltk\n",
    "from sklearn.decomposition import PCA\n",
    "from matplotlib import pyplot as plt\n",
    "from scipy import spatial\n",
    "import seaborn as sns"
   ]
  },
  {
   "cell_type": "markdown",
   "id": "distant-korean",
   "metadata": {},
   "source": [
    "### 2.2 Load dataset "
   ]
  },
  {
   "cell_type": "code",
   "execution_count": 3,
   "id": "tired-rotation",
   "metadata": {},
   "outputs": [
    {
     "name": "stderr",
     "output_type": "stream",
     "text": [
      "Using custom data configuration default\n",
      "Reusing dataset climate_fever (C:\\Users\\DELL\\.cache\\huggingface\\datasets\\climate_fever\\default\\1.0.1\\3b846b20d7a37bc0019b0f0dcbde5bf2d0f94f6874f7e4c398c579f332c4262c)\n"
     ]
    },
    {
     "data": {
      "text/plain": [
       "Dataset({\n",
       "    features: ['claim_id', 'claim', 'claim_label', 'evidences'],\n",
       "    num_rows: 1535\n",
       "})"
      ]
     },
     "execution_count": 3,
     "metadata": {},
     "output_type": "execute_result"
    }
   ],
   "source": [
    "dataset = load_dataset('climate_fever')\n",
    "dataset['test']\n"
   ]
  },
  {
   "cell_type": "markdown",
   "id": "mineral-cambodia",
   "metadata": {},
   "source": [
    "### 2.3 Assigned claim  and evidence feature values to corpus ( In order to to apply word embedding )"
   ]
  },
  {
   "cell_type": "code",
   "execution_count": 4,
   "id": "sharing-twelve",
   "metadata": {},
   "outputs": [],
   "source": [
    "sent_list = list()\n",
    "for i in range(0, dataset[\"test\"].num_rows):\n",
    "    claim = dataset[\"test\"][i][\"claim\"]\n",
    "    sent_list.append(claim)\n",
    "   \n",
    "    for _, data in enumerate(dataset[\"test\"][i][\"evidences\"]):\n",
    "        article = data[\"article\"]\n",
    "        evidence = data[\"evidence\"]\n",
    "        sent_list.append(article)\n",
    "        sent_list.append(evidence)\n",
    "        \n"
   ]
  },
  {
   "cell_type": "code",
   "execution_count": 5,
   "id": "occasional-module",
   "metadata": {},
   "outputs": [
    {
     "data": {
      "text/plain": [
       "16885"
      ]
     },
     "execution_count": 5,
     "metadata": {},
     "output_type": "execute_result"
    }
   ],
   "source": [
    "len(sent_list)"
   ]
  },
  {
   "cell_type": "markdown",
   "id": "decimal-corrections",
   "metadata": {},
   "source": [
    "### 2.4 Text/Data Preprocessing"
   ]
  },
  {
   "cell_type": "code",
   "execution_count": 6,
   "id": "behind-decimal",
   "metadata": {},
   "outputs": [],
   "source": [
    "corpus = []\n",
    "\n",
    "for i in range (0,1534):\n",
    "    claim = re.sub('[^a-zA-z]',' ', sent_list[i])\n",
    "    claim = claim.lower()\n",
    "    claim = claim.split()\n",
    "    ps = PorterStemmer()\n",
    "    all_stopwords = stopwords.words('english')\n",
    "    all_stopwords.remove('not')\n",
    "    claim = [ps.stem(word) for word in claim if not word in set(all_stopwords)]\n",
    "    claim = ' '.join(claim)\n",
    "    corpus.append(claim)\n",
    "    "
   ]
  },
  {
   "cell_type": "markdown",
   "id": "anticipated-gabriel",
   "metadata": {},
   "source": [
    "### 2.5 Converted every word of the corpus to embedding vectors in order to embed the text dataset with Word2Vec"
   ]
  },
  {
   "cell_type": "code",
   "execution_count": 7,
   "id": "abandoned-newton",
   "metadata": {},
   "outputs": [],
   "source": [
    "corpusVec = [nltk.word_tokenize(claim) for claim in corpus]"
   ]
  },
  {
   "cell_type": "code",
   "execution_count": 8,
   "id": "fiscal-showcase",
   "metadata": {},
   "outputs": [
    {
     "data": {
      "text/plain": [
       "1534"
      ]
     },
     "execution_count": 8,
     "metadata": {},
     "output_type": "execute_result"
    }
   ],
   "source": [
    "len(corpusVec)"
   ]
  },
  {
   "cell_type": "markdown",
   "id": "engaging-enclosure",
   "metadata": {},
   "source": [
    "### 2.6 Built a word2Vec model"
   ]
  },
  {
   "cell_type": "code",
   "execution_count": 9,
   "id": "medical-falls",
   "metadata": {},
   "outputs": [],
   "source": [
    "model = Word2Vec(corpusVec, min_count=1)\n",
    "model.save(\"word2vec.bin\")"
   ]
  },
  {
   "cell_type": "markdown",
   "id": "common-diving",
   "metadata": {},
   "source": [
    "### 2.7 Split word embeddings into train and test sets\n",
    "\n",
    "- Train set (corpusVec_train) contains 80% of word embeddings ( CM2 part I and II).\n",
    "- Test set (corpusVec_test) contains 20% of word embeddings (CM2 part III and IV )."
   ]
  },
  {
   "cell_type": "code",
   "execution_count": 116,
   "id": "reasonable-grant",
   "metadata": {},
   "outputs": [],
   "source": [
    "corpusVec_train, corpusVec_test = train_test_split(corpusVec,test_size=0.20,random_state = None)"
   ]
  },
  {
   "cell_type": "markdown",
   "id": "subjective-interference",
   "metadata": {},
   "source": [
    "#### 2.7.1 Created dictionaries to store word and it's embedding"
   ]
  },
  {
   "cell_type": "code",
   "execution_count": 117,
   "id": "engaging-leadership",
   "metadata": {},
   "outputs": [],
   "source": [
    "embedding_train = dict()\n",
    "embedding_test = dict()\n",
    "#embedding_test= {'word', 'values'}\n",
    "\n",
    "for sentence in corpusVec_train:\n",
    "    for word in sentence:\n",
    "        embedding_train[word] = model.wv[word]\n",
    "        \n",
    "for sentence in corpusVec_test:\n",
    "    for word in sentence:\n",
    "        embedding_test[word] = model.wv[word]"
   ]
  },
  {
   "cell_type": "markdown",
   "id": "welsh-third",
   "metadata": {},
   "source": [
    "#### 2.7.2 Created train and test dataframe from embeddings"
   ]
  },
  {
   "cell_type": "code",
   "execution_count": 118,
   "id": "radio-thumb",
   "metadata": {},
   "outputs": [],
   "source": [
    "train_emb_df = pd.DataFrame(embedding_train)\n",
    "test_emb_df = pd.DataFrame(embedding_test)"
   ]
  },
  {
   "cell_type": "code",
   "execution_count": 119,
   "id": "corrected-cattle",
   "metadata": {},
   "outputs": [
    {
     "data": {
      "text/html": [
       "<div>\n",
       "<style scoped>\n",
       "    .dataframe tbody tr th:only-of-type {\n",
       "        vertical-align: middle;\n",
       "    }\n",
       "\n",
       "    .dataframe tbody tr th {\n",
       "        vertical-align: top;\n",
       "    }\n",
       "\n",
       "    .dataframe thead th {\n",
       "        text-align: right;\n",
       "    }\n",
       "</style>\n",
       "<table border=\"1\" class=\"dataframe\">\n",
       "  <thead>\n",
       "    <tr style=\"text-align: right;\">\n",
       "      <th></th>\n",
       "      <th>global</th>\n",
       "      <th>cool</th>\n",
       "      <th>januari</th>\n",
       "      <th>hottest</th>\n",
       "      <th>month</th>\n",
       "      <th>ever</th>\n",
       "      <th>australia</th>\n",
       "      <th>averag</th>\n",
       "      <th>temperatur</th>\n",
       "      <th>exceed</th>\n",
       "      <th>...</th>\n",
       "      <th>famili</th>\n",
       "      <th>n</th>\n",
       "      <th>case</th>\n",
       "      <th>revis</th>\n",
       "      <th>upward</th>\n",
       "      <th>role</th>\n",
       "      <th>almost</th>\n",
       "      <th>three</th>\n",
       "      <th>today</th>\n",
       "      <th>thrive</th>\n",
       "    </tr>\n",
       "  </thead>\n",
       "  <tbody>\n",
       "    <tr>\n",
       "      <th>0</th>\n",
       "      <td>-0.026006</td>\n",
       "      <td>-0.011229</td>\n",
       "      <td>-0.006648</td>\n",
       "      <td>-0.000850</td>\n",
       "      <td>-0.004649</td>\n",
       "      <td>0.001720</td>\n",
       "      <td>-0.011468</td>\n",
       "      <td>-0.024388</td>\n",
       "      <td>-0.044989</td>\n",
       "      <td>-0.006691</td>\n",
       "      <td>...</td>\n",
       "      <td>-0.001396</td>\n",
       "      <td>0.000601</td>\n",
       "      <td>-0.007260</td>\n",
       "      <td>0.002139</td>\n",
       "      <td>-0.005385</td>\n",
       "      <td>-0.002964</td>\n",
       "      <td>-0.006399</td>\n",
       "      <td>-0.005031</td>\n",
       "      <td>-0.009883</td>\n",
       "      <td>-0.004415</td>\n",
       "    </tr>\n",
       "    <tr>\n",
       "      <th>1</th>\n",
       "      <td>0.022598</td>\n",
       "      <td>0.011807</td>\n",
       "      <td>-0.000674</td>\n",
       "      <td>0.004829</td>\n",
       "      <td>0.006153</td>\n",
       "      <td>0.004475</td>\n",
       "      <td>0.009207</td>\n",
       "      <td>0.015170</td>\n",
       "      <td>0.037848</td>\n",
       "      <td>0.005509</td>\n",
       "      <td>...</td>\n",
       "      <td>-0.001372</td>\n",
       "      <td>0.001075</td>\n",
       "      <td>0.004348</td>\n",
       "      <td>0.006840</td>\n",
       "      <td>0.003717</td>\n",
       "      <td>0.002483</td>\n",
       "      <td>0.006312</td>\n",
       "      <td>-0.000342</td>\n",
       "      <td>0.002459</td>\n",
       "      <td>-0.003641</td>\n",
       "    </tr>\n",
       "    <tr>\n",
       "      <th>2</th>\n",
       "      <td>-0.005089</td>\n",
       "      <td>0.000265</td>\n",
       "      <td>0.002516</td>\n",
       "      <td>0.002618</td>\n",
       "      <td>-0.005541</td>\n",
       "      <td>0.000362</td>\n",
       "      <td>-0.004481</td>\n",
       "      <td>-0.004996</td>\n",
       "      <td>-0.012264</td>\n",
       "      <td>0.000503</td>\n",
       "      <td>...</td>\n",
       "      <td>-0.003661</td>\n",
       "      <td>-0.004298</td>\n",
       "      <td>0.003003</td>\n",
       "      <td>-0.001459</td>\n",
       "      <td>0.003445</td>\n",
       "      <td>-0.000055</td>\n",
       "      <td>-0.002934</td>\n",
       "      <td>-0.005092</td>\n",
       "      <td>-0.005759</td>\n",
       "      <td>-0.001071</td>\n",
       "    </tr>\n",
       "    <tr>\n",
       "      <th>3</th>\n",
       "      <td>0.003168</td>\n",
       "      <td>0.002775</td>\n",
       "      <td>-0.004008</td>\n",
       "      <td>0.000980</td>\n",
       "      <td>0.000113</td>\n",
       "      <td>0.000156</td>\n",
       "      <td>-0.000212</td>\n",
       "      <td>-0.003244</td>\n",
       "      <td>0.001034</td>\n",
       "      <td>0.002623</td>\n",
       "      <td>...</td>\n",
       "      <td>0.004947</td>\n",
       "      <td>-0.003822</td>\n",
       "      <td>-0.000681</td>\n",
       "      <td>-0.003386</td>\n",
       "      <td>-0.004442</td>\n",
       "      <td>-0.003067</td>\n",
       "      <td>0.003782</td>\n",
       "      <td>-0.004291</td>\n",
       "      <td>-0.004522</td>\n",
       "      <td>-0.001489</td>\n",
       "    </tr>\n",
       "    <tr>\n",
       "      <th>4</th>\n",
       "      <td>-0.060672</td>\n",
       "      <td>-0.023229</td>\n",
       "      <td>-0.004556</td>\n",
       "      <td>-0.008189</td>\n",
       "      <td>-0.012993</td>\n",
       "      <td>-0.005828</td>\n",
       "      <td>-0.022834</td>\n",
       "      <td>-0.047847</td>\n",
       "      <td>-0.088214</td>\n",
       "      <td>-0.009173</td>\n",
       "      <td>...</td>\n",
       "      <td>-0.000463</td>\n",
       "      <td>-0.001877</td>\n",
       "      <td>-0.005677</td>\n",
       "      <td>-0.006764</td>\n",
       "      <td>-0.010588</td>\n",
       "      <td>-0.010838</td>\n",
       "      <td>0.000449</td>\n",
       "      <td>-0.009807</td>\n",
       "      <td>-0.017840</td>\n",
       "      <td>0.001299</td>\n",
       "    </tr>\n",
       "  </tbody>\n",
       "</table>\n",
       "<p>5 rows × 1084 columns</p>\n",
       "</div>"
      ],
      "text/plain": [
       "     global      cool   januari   hottest     month      ever  australia  \\\n",
       "0 -0.026006 -0.011229 -0.006648 -0.000850 -0.004649  0.001720  -0.011468   \n",
       "1  0.022598  0.011807 -0.000674  0.004829  0.006153  0.004475   0.009207   \n",
       "2 -0.005089  0.000265  0.002516  0.002618 -0.005541  0.000362  -0.004481   \n",
       "3  0.003168  0.002775 -0.004008  0.000980  0.000113  0.000156  -0.000212   \n",
       "4 -0.060672 -0.023229 -0.004556 -0.008189 -0.012993 -0.005828  -0.022834   \n",
       "\n",
       "     averag  temperatur    exceed  ...    famili         n      case  \\\n",
       "0 -0.024388   -0.044989 -0.006691  ... -0.001396  0.000601 -0.007260   \n",
       "1  0.015170    0.037848  0.005509  ... -0.001372  0.001075  0.004348   \n",
       "2 -0.004996   -0.012264  0.000503  ... -0.003661 -0.004298  0.003003   \n",
       "3 -0.003244    0.001034  0.002623  ...  0.004947 -0.003822 -0.000681   \n",
       "4 -0.047847   -0.088214 -0.009173  ... -0.000463 -0.001877 -0.005677   \n",
       "\n",
       "      revis    upward      role    almost     three     today    thrive  \n",
       "0  0.002139 -0.005385 -0.002964 -0.006399 -0.005031 -0.009883 -0.004415  \n",
       "1  0.006840  0.003717  0.002483  0.006312 -0.000342  0.002459 -0.003641  \n",
       "2 -0.001459  0.003445 -0.000055 -0.002934 -0.005092 -0.005759 -0.001071  \n",
       "3 -0.003386 -0.004442 -0.003067  0.003782 -0.004291 -0.004522 -0.001489  \n",
       "4 -0.006764 -0.010588 -0.010838  0.000449 -0.009807 -0.017840  0.001299  \n",
       "\n",
       "[5 rows x 1084 columns]"
      ]
     },
     "execution_count": 119,
     "metadata": {},
     "output_type": "execute_result"
    }
   ],
   "source": [
    "test_emb_df.head()"
   ]
  },
  {
   "cell_type": "code",
   "execution_count": 14,
   "id": "returning-trauma",
   "metadata": {},
   "outputs": [
    {
     "data": {
      "text/html": [
       "<div>\n",
       "<style scoped>\n",
       "    .dataframe tbody tr th:only-of-type {\n",
       "        vertical-align: middle;\n",
       "    }\n",
       "\n",
       "    .dataframe tbody tr th {\n",
       "        vertical-align: top;\n",
       "    }\n",
       "\n",
       "    .dataframe thead th {\n",
       "        text-align: right;\n",
       "    }\n",
       "</style>\n",
       "<table border=\"1\" class=\"dataframe\">\n",
       "  <thead>\n",
       "    <tr style=\"text-align: right;\">\n",
       "      <th></th>\n",
       "      <th>late</th>\n",
       "      <th>th</th>\n",
       "      <th>centuri</th>\n",
       "      <th>scientif</th>\n",
       "      <th>consensu</th>\n",
       "      <th>evolv</th>\n",
       "      <th>increas</th>\n",
       "      <th>concentr</th>\n",
       "      <th>greenhous</th>\n",
       "      <th>gase</th>\n",
       "      <th>...</th>\n",
       "      <th>transport</th>\n",
       "      <th>equal</th>\n",
       "      <th>exhibit</th>\n",
       "      <th>chairman</th>\n",
       "      <th>affair</th>\n",
       "      <th>seriou</th>\n",
       "      <th>reject</th>\n",
       "      <th>precondit</th>\n",
       "      <th>section</th>\n",
       "      <th>dutch</th>\n",
       "    </tr>\n",
       "  </thead>\n",
       "  <tbody>\n",
       "    <tr>\n",
       "      <th>0</th>\n",
       "      <td>-0.004184</td>\n",
       "      <td>-0.022699</td>\n",
       "      <td>-0.029572</td>\n",
       "      <td>-0.019894</td>\n",
       "      <td>-0.014478</td>\n",
       "      <td>-0.000021</td>\n",
       "      <td>-0.046867</td>\n",
       "      <td>-0.019497</td>\n",
       "      <td>-0.022218</td>\n",
       "      <td>-0.023295</td>\n",
       "      <td>...</td>\n",
       "      <td>-0.001727</td>\n",
       "      <td>-0.004806</td>\n",
       "      <td>-0.004135</td>\n",
       "      <td>0.001529</td>\n",
       "      <td>0.003135</td>\n",
       "      <td>0.001559</td>\n",
       "      <td>-0.004899</td>\n",
       "      <td>0.000144</td>\n",
       "      <td>-0.004987</td>\n",
       "      <td>-0.005375</td>\n",
       "    </tr>\n",
       "    <tr>\n",
       "      <th>1</th>\n",
       "      <td>0.000208</td>\n",
       "      <td>0.011434</td>\n",
       "      <td>0.025260</td>\n",
       "      <td>0.014197</td>\n",
       "      <td>0.003634</td>\n",
       "      <td>0.005895</td>\n",
       "      <td>0.037896</td>\n",
       "      <td>0.021260</td>\n",
       "      <td>0.025539</td>\n",
       "      <td>0.025560</td>\n",
       "      <td>...</td>\n",
       "      <td>0.002223</td>\n",
       "      <td>-0.000696</td>\n",
       "      <td>0.005607</td>\n",
       "      <td>0.003139</td>\n",
       "      <td>0.003429</td>\n",
       "      <td>-0.002068</td>\n",
       "      <td>-0.001082</td>\n",
       "      <td>0.002521</td>\n",
       "      <td>0.002653</td>\n",
       "      <td>-0.003045</td>\n",
       "    </tr>\n",
       "    <tr>\n",
       "      <th>2</th>\n",
       "      <td>-0.003391</td>\n",
       "      <td>-0.005212</td>\n",
       "      <td>-0.007817</td>\n",
       "      <td>-0.001660</td>\n",
       "      <td>-0.007228</td>\n",
       "      <td>0.002238</td>\n",
       "      <td>-0.017685</td>\n",
       "      <td>-0.001694</td>\n",
       "      <td>-0.010210</td>\n",
       "      <td>-0.011750</td>\n",
       "      <td>...</td>\n",
       "      <td>-0.003254</td>\n",
       "      <td>-0.003879</td>\n",
       "      <td>0.004449</td>\n",
       "      <td>-0.003586</td>\n",
       "      <td>0.001487</td>\n",
       "      <td>-0.000186</td>\n",
       "      <td>0.002114</td>\n",
       "      <td>-0.003566</td>\n",
       "      <td>-0.001746</td>\n",
       "      <td>0.002847</td>\n",
       "    </tr>\n",
       "    <tr>\n",
       "      <th>3</th>\n",
       "      <td>0.004808</td>\n",
       "      <td>0.002636</td>\n",
       "      <td>0.001091</td>\n",
       "      <td>0.001836</td>\n",
       "      <td>0.005306</td>\n",
       "      <td>-0.004611</td>\n",
       "      <td>0.001751</td>\n",
       "      <td>-0.001221</td>\n",
       "      <td>0.004334</td>\n",
       "      <td>-0.002342</td>\n",
       "      <td>...</td>\n",
       "      <td>0.003010</td>\n",
       "      <td>0.004428</td>\n",
       "      <td>-0.000980</td>\n",
       "      <td>0.002045</td>\n",
       "      <td>0.003726</td>\n",
       "      <td>0.004720</td>\n",
       "      <td>0.001786</td>\n",
       "      <td>-0.001450</td>\n",
       "      <td>0.001385</td>\n",
       "      <td>-0.003299</td>\n",
       "    </tr>\n",
       "    <tr>\n",
       "      <th>4</th>\n",
       "      <td>-0.006628</td>\n",
       "      <td>-0.041191</td>\n",
       "      <td>-0.057258</td>\n",
       "      <td>-0.043912</td>\n",
       "      <td>-0.026514</td>\n",
       "      <td>-0.002943</td>\n",
       "      <td>-0.101817</td>\n",
       "      <td>-0.046994</td>\n",
       "      <td>-0.060712</td>\n",
       "      <td>-0.064505</td>\n",
       "      <td>...</td>\n",
       "      <td>-0.006536</td>\n",
       "      <td>-0.001998</td>\n",
       "      <td>0.002172</td>\n",
       "      <td>-0.005785</td>\n",
       "      <td>0.001312</td>\n",
       "      <td>-0.001335</td>\n",
       "      <td>0.002149</td>\n",
       "      <td>0.001488</td>\n",
       "      <td>0.000610</td>\n",
       "      <td>-0.005955</td>\n",
       "    </tr>\n",
       "  </tbody>\n",
       "</table>\n",
       "<p>5 rows × 2160 columns</p>\n",
       "</div>"
      ],
      "text/plain": [
       "       late        th   centuri  scientif  consensu     evolv   increas  \\\n",
       "0 -0.004184 -0.022699 -0.029572 -0.019894 -0.014478 -0.000021 -0.046867   \n",
       "1  0.000208  0.011434  0.025260  0.014197  0.003634  0.005895  0.037896   \n",
       "2 -0.003391 -0.005212 -0.007817 -0.001660 -0.007228  0.002238 -0.017685   \n",
       "3  0.004808  0.002636  0.001091  0.001836  0.005306 -0.004611  0.001751   \n",
       "4 -0.006628 -0.041191 -0.057258 -0.043912 -0.026514 -0.002943 -0.101817   \n",
       "\n",
       "   concentr  greenhous      gase  ...  transport     equal   exhibit  \\\n",
       "0 -0.019497  -0.022218 -0.023295  ...  -0.001727 -0.004806 -0.004135   \n",
       "1  0.021260   0.025539  0.025560  ...   0.002223 -0.000696  0.005607   \n",
       "2 -0.001694  -0.010210 -0.011750  ...  -0.003254 -0.003879  0.004449   \n",
       "3 -0.001221   0.004334 -0.002342  ...   0.003010  0.004428 -0.000980   \n",
       "4 -0.046994  -0.060712 -0.064505  ...  -0.006536 -0.001998  0.002172   \n",
       "\n",
       "   chairman    affair    seriou    reject  precondit   section     dutch  \n",
       "0  0.001529  0.003135  0.001559 -0.004899   0.000144 -0.004987 -0.005375  \n",
       "1  0.003139  0.003429 -0.002068 -0.001082   0.002521  0.002653 -0.003045  \n",
       "2 -0.003586  0.001487 -0.000186  0.002114  -0.003566 -0.001746  0.002847  \n",
       "3  0.002045  0.003726  0.004720  0.001786  -0.001450  0.001385 -0.003299  \n",
       "4 -0.005785  0.001312 -0.001335  0.002149   0.001488  0.000610 -0.005955  \n",
       "\n",
       "[5 rows x 2160 columns]"
      ]
     },
     "execution_count": 14,
     "metadata": {},
     "output_type": "execute_result"
    }
   ],
   "source": [
    "train_emb_df.head()"
   ]
  },
  {
   "cell_type": "code",
   "execution_count": 15,
   "id": "buried-interaction",
   "metadata": {},
   "outputs": [
    {
     "name": "stdout",
     "output_type": "stream",
     "text": [
      "Word2Vec(vocab=2397, size=100, alpha=0.025)\n"
     ]
    }
   ],
   "source": [
    "print(model)"
   ]
  },
  {
   "cell_type": "code",
   "execution_count": 16,
   "id": "olympic-license",
   "metadata": {},
   "outputs": [
    {
     "data": {
      "text/plain": [
       "2397"
      ]
     },
     "execution_count": 16,
     "metadata": {},
     "output_type": "execute_result"
    }
   ],
   "source": [
    "words = list(model.wv.vocab)\n",
    "len(words)"
   ]
  },
  {
   "cell_type": "markdown",
   "id": "significant-airplane",
   "metadata": {},
   "source": [
    "### 2.8 Built a PCA model\n",
    "\n",
    "\n",
    "- The word embedding comes in a very high dimensionality, which means it is impossible to visualize how words occupy the embedding space. A method such as Principal Component Analysis (PCA) is normally implemented to reduce the dimensionality of word embedding.\n",
    "- Principal Component Analysis (PCA) is one of the most useful techniques in Exploratory Data Analysis to understand the data, reduce dimensions of data.\n",
    "\n",
    "\n",
    "**Parameters :**\n",
    "- n_components (int,float or 'mle') : Number of components to keep. After applying PCA our result will be converted in words X n_components. Default value is None. If n_components == 'mle' and svd_solver == 'full', Minka’s MLE is used to guess the dimension.\n",
    "\n",
    "**Attributes :**\n",
    "- explained_variance_ ( ndarray of shape (n_components,) ) : The amount of variance explained by each of the selected components.\n",
    "- explained_variance_ : Percentage of variance explained by each of the selected components. If n_components is not set then all components are stored and the sum of the ratios is equal to 1.0.\n",
    "\n",
    "**Note :**\n",
    "- The 'None' case in n_components results : n_components == min(n_samples, n_features) - 1\n",
    "\n"
   ]
  },
  {
   "cell_type": "code",
   "execution_count": 22,
   "id": "secret-accreditation",
   "metadata": {},
   "outputs": [
    {
     "ename": "IndexError",
     "evalue": "index 100 is out of bounds for axis 0 with size 100",
     "output_type": "error",
     "traceback": [
      "\u001b[1;31m---------------------------------------------------------------------------\u001b[0m",
      "\u001b[1;31mIndexError\u001b[0m                                Traceback (most recent call last)",
      "\u001b[1;32m<ipython-input-22-de3f5951351b>\u001b[0m in \u001b[0;36m<module>\u001b[1;34m\u001b[0m\n\u001b[0;32m      4\u001b[0m \u001b[0mpyplot\u001b[0m\u001b[1;33m.\u001b[0m\u001b[0mscatter\u001b[0m\u001b[1;33m(\u001b[0m\u001b[0mresult\u001b[0m\u001b[1;33m[\u001b[0m\u001b[1;33m:\u001b[0m\u001b[1;33m,\u001b[0m \u001b[1;36m0\u001b[0m\u001b[1;33m]\u001b[0m\u001b[1;33m,\u001b[0m \u001b[0mresult\u001b[0m\u001b[1;33m[\u001b[0m\u001b[1;33m:\u001b[0m\u001b[1;33m,\u001b[0m \u001b[1;36m1\u001b[0m\u001b[1;33m]\u001b[0m\u001b[1;33m)\u001b[0m\u001b[1;33m\u001b[0m\u001b[1;33m\u001b[0m\u001b[0m\n\u001b[0;32m      5\u001b[0m \u001b[1;32mfor\u001b[0m \u001b[0mi\u001b[0m\u001b[1;33m,\u001b[0m \u001b[0mword\u001b[0m \u001b[1;32min\u001b[0m \u001b[0menumerate\u001b[0m\u001b[1;33m(\u001b[0m\u001b[0mwords\u001b[0m\u001b[1;33m)\u001b[0m\u001b[1;33m:\u001b[0m\u001b[1;33m\u001b[0m\u001b[1;33m\u001b[0m\u001b[0m\n\u001b[1;32m----> 6\u001b[1;33m     \u001b[0mpyplot\u001b[0m\u001b[1;33m.\u001b[0m\u001b[0mannotate\u001b[0m\u001b[1;33m(\u001b[0m\u001b[0mword\u001b[0m\u001b[1;33m,\u001b[0m \u001b[0mxy\u001b[0m\u001b[1;33m=\u001b[0m\u001b[1;33m(\u001b[0m\u001b[0mresult\u001b[0m\u001b[1;33m[\u001b[0m\u001b[0mi\u001b[0m\u001b[1;33m,\u001b[0m \u001b[1;36m0\u001b[0m\u001b[1;33m]\u001b[0m\u001b[1;33m,\u001b[0m \u001b[0mresult\u001b[0m\u001b[1;33m[\u001b[0m\u001b[0mi\u001b[0m\u001b[1;33m,\u001b[0m \u001b[1;36m1\u001b[0m\u001b[1;33m]\u001b[0m\u001b[1;33m)\u001b[0m\u001b[1;33m)\u001b[0m\u001b[1;33m\u001b[0m\u001b[1;33m\u001b[0m\u001b[0m\n\u001b[0m\u001b[0;32m      7\u001b[0m \u001b[0mpyplot\u001b[0m\u001b[1;33m.\u001b[0m\u001b[0mshow\u001b[0m\u001b[1;33m(\u001b[0m\u001b[1;33m)\u001b[0m\u001b[1;33m\u001b[0m\u001b[1;33m\u001b[0m\u001b[0m\n",
      "\u001b[1;31mIndexError\u001b[0m: index 100 is out of bounds for axis 0 with size 100"
     ]
    },
    {
     "data": {
      "image/png": "[encoded data removed]",
      "text/plain": [
       "<Figure size 432x288 with 1 Axes>"
      ]
     },
     "metadata": {
      "needs_background": "light"
     },
     "output_type": "display_data"
    }
   ],
   "source": [
    "from matplotlib import pyplot\n",
    "pca = PCA(n_components=2)\n",
    "result = pca.fit_transform(train_emb_df)\n",
    "pyplot.scatter(result[:, 0], result[:, 1])\n",
    "for i, word in enumerate(words):\n",
    "    pyplot.annotate(word, xy=(result[i, 0], result[i, 1]))\n",
    "pyplot.show()"
   ]
  },
  {
   "cell_type": "code",
   "execution_count": 23,
   "id": "creative-occasion",
   "metadata": {},
   "outputs": [
    {
     "data": {
      "text/plain": [
       "<matplotlib.collections.PathCollection at 0x24fb2913040>"
      ]
     },
     "execution_count": 23,
     "metadata": {},
     "output_type": "execute_result"
    },
    {
     "data": {
      "image/png": "[encoded data removed]",
      "text/plain": [
       "<Figure size 432x288 with 1 Axes>"
      ]
     },
     "metadata": {
      "needs_background": "light"
     },
     "output_type": "display_data"
    }
   ],
   "source": [
    "pyplot.scatter(result[:, 0], result[:, 1])"
   ]
  },
  {
   "cell_type": "markdown",
   "id": "threatened-welsh",
   "metadata": {},
   "source": [
    "#### 2.8.1 Analysis of PCA model\n",
    "\n",
    "- We built a 2-dimensional PCA model of the word vectors so that we easily analyze words in 2-D vision.\n",
    "- X and Y axis are resulting vector of PCA model. As we have window_size is 100, model will create 100 X 2 variable result ( window_size in Word2Vec is 100 and n_component in PCA is 2).\n",
    "\n",
    "\n",
    "**Note :**\n",
    "- Error which is shown in above figure is occurred as we have window_size in word2Vec model is 100 (default value). "
   ]
  },
  {
   "cell_type": "code",
   "execution_count": 24,
   "id": "removed-turkish",
   "metadata": {},
   "outputs": [
    {
     "data": {
      "text/plain": [
       "(100, 2)"
      ]
     },
     "execution_count": 24,
     "metadata": {},
     "output_type": "execute_result"
    }
   ],
   "source": [
    "result.shape"
   ]
  },
  {
   "cell_type": "markdown",
   "id": "lucky-swaziland",
   "metadata": {},
   "source": [
    "### 2.9 Scree Plot in PCA\n",
    "\n",
    "- The scree plot is a line plot used to determine how many factors to retain.\n",
    "- In order to compare the variance explained by each principal component scree plot is useful in PCA.\n",
    "\n",
    "**Note :**\n",
    "We used train dataset to plot and visualise Scree plot in PCA"
   ]
  },
  {
   "cell_type": "code",
   "execution_count": 25,
   "id": "interior-kinase",
   "metadata": {},
   "outputs": [
    {
     "data": {
      "image/png": "[encoded data removed]",
      "text/plain": [
       "<Figure size 432x288 with 1 Axes>"
      ]
     },
     "metadata": {
      "needs_background": "light"
     },
     "output_type": "display_data"
    }
   ],
   "source": [
    "pca = PCA()\n",
    "pc_comp = pca.fit_transform(train_emb_df)\n",
    "PC_values = np.arange(10) + 1\n",
    "#plt.ylim(0,max(screeplot.explained_variance_))\n",
    "plt.style.context('seaborn-whitegrid')\n",
    "plt.axhline(y=0.05,color='r',linestyle='--')\n",
    "plt.plot(PC_values,pca.explained_variance_[:10])\n",
    "plt.show()"
   ]
  },
  {
   "cell_type": "markdown",
   "id": "handmade-publisher",
   "metadata": {},
   "source": [
    "#### 2.9.1 Analysis of Scree plot\n",
    "\n",
    "-  We decided to choose the first two components that explain %95 of all information ( explained_variance_ values should be below red-dotted line to achieve more than 95% ). \n",
    "-  When number of components are more that 2 we achivev similar explained variance for dataset.\n"
   ]
  },
  {
   "cell_type": "code",
   "execution_count": 27,
   "id": "legendary-search",
   "metadata": {},
   "outputs": [
    {
     "data": {
      "image/png": "[encoded data removed]",
      "text/plain": [
       "<Figure size 432x288 with 1 Axes>"
      ]
     },
     "metadata": {
      "needs_background": "light"
     },
     "output_type": "display_data"
    }
   ],
   "source": [
    "pca2 = PCA(n_components =4)\n",
    "pca2_comp = pca2.fit_transform(train_emb_df)\n",
    "df_pca = pd.DataFrame({'variance_ratio':pca2.explained_variance_ratio_[:4],'variance':pca2.explained_variance_[:4],\n",
    "             'PC':['PC1','PC2','PC3','PC4']})\n",
    "sns.barplot(x='PC',y=\"variance_ratio\", \n",
    "           data=df_pca, color=\"c\");"
   ]
  },
  {
   "cell_type": "code",
   "execution_count": 28,
   "id": "worse-paraguay",
   "metadata": {},
   "outputs": [
    {
     "data": {
      "image/png": "[encoded data removed]",
      "text/plain": [
       "<Figure size 432x288 with 1 Axes>"
      ]
     },
     "metadata": {
      "needs_background": "light"
     },
     "output_type": "display_data"
    }
   ],
   "source": [
    "sns.barplot(x='PC',y=\"variance\", \n",
    "           data=df_pca, color=\"c\");"
   ]
  },
  {
   "cell_type": "markdown",
   "id": "precise-patent",
   "metadata": {},
   "source": [
    "#### 2.9.2 Analysis of bar plot \n",
    "\n",
    "- First bar plot uses explained_variance_ratio_ attribute and second bar plot uses explained_variance attribute of PCA.\n",
    "- From above 2 bar graphs, it is cleared that in PC1 ( 1 Principal Component only ) model have variance(0.12) and variance ratio (0.8) between vectors. However after that as principal component increase model don't have any ( or very small amount ) of variance. "
   ]
  },
  {
   "cell_type": "markdown",
   "id": "filled-mountain",
   "metadata": {},
   "source": [
    "### 2.10 Visualisation of first Four dimensionality for PCA model\n",
    "\n",
    "- For this visualisation we used test dataframe.\n",
    "- We used subplot function for matplotlib package to compare dimensionality of PCA model.\n"
   ]
  },
  {
   "cell_type": "code",
   "execution_count": 30,
   "id": "agreed-prison",
   "metadata": {},
   "outputs": [
    {
     "data": {
      "text/html": [
       "<div>\n",
       "<style scoped>\n",
       "    .dataframe tbody tr th:only-of-type {\n",
       "        vertical-align: middle;\n",
       "    }\n",
       "\n",
       "    .dataframe tbody tr th {\n",
       "        vertical-align: top;\n",
       "    }\n",
       "\n",
       "    .dataframe thead th {\n",
       "        text-align: right;\n",
       "    }\n",
       "</style>\n",
       "<table border=\"1\" class=\"dataframe\">\n",
       "  <thead>\n",
       "    <tr style=\"text-align: right;\">\n",
       "      <th></th>\n",
       "      <th>0</th>\n",
       "      <th>1</th>\n",
       "      <th>2</th>\n",
       "      <th>3</th>\n",
       "    </tr>\n",
       "  </thead>\n",
       "  <tbody>\n",
       "    <tr>\n",
       "      <th>0</th>\n",
       "      <td>-0.209345</td>\n",
       "      <td>-0.022775</td>\n",
       "      <td>-0.005724</td>\n",
       "      <td>0.003348</td>\n",
       "    </tr>\n",
       "    <tr>\n",
       "      <th>1</th>\n",
       "      <td>0.311517</td>\n",
       "      <td>0.011573</td>\n",
       "      <td>0.004177</td>\n",
       "      <td>-0.007542</td>\n",
       "    </tr>\n",
       "    <tr>\n",
       "      <th>2</th>\n",
       "      <td>-0.013236</td>\n",
       "      <td>-0.017950</td>\n",
       "      <td>-0.004714</td>\n",
       "      <td>0.017240</td>\n",
       "    </tr>\n",
       "    <tr>\n",
       "      <th>3</th>\n",
       "      <td>0.091419</td>\n",
       "      <td>-0.004783</td>\n",
       "      <td>-0.006555</td>\n",
       "      <td>-0.011025</td>\n",
       "    </tr>\n",
       "    <tr>\n",
       "      <th>4</th>\n",
       "      <td>-0.547432</td>\n",
       "      <td>0.001368</td>\n",
       "      <td>0.009593</td>\n",
       "      <td>-0.017717</td>\n",
       "    </tr>\n",
       "  </tbody>\n",
       "</table>\n",
       "</div>"
      ],
      "text/plain": [
       "          0         1         2         3\n",
       "0 -0.209345 -0.022775 -0.005724  0.003348\n",
       "1  0.311517  0.011573  0.004177 -0.007542\n",
       "2 -0.013236 -0.017950 -0.004714  0.017240\n",
       "3  0.091419 -0.004783 -0.006555 -0.011025\n",
       "4 -0.547432  0.001368  0.009593 -0.017717"
      ]
     },
     "execution_count": 30,
     "metadata": {},
     "output_type": "execute_result"
    }
   ],
   "source": [
    "pca = PCA()\n",
    "pc_comp = pca.fit_transform(test_emb_df)\n",
    "pca_4 = pd.DataFrame(pc_comp)\n",
    "pca_4 = pca_4.iloc[:, [0,1,2,3]]\n",
    "pca_4.head()"
   ]
  },
  {
   "cell_type": "code",
   "execution_count": 175,
   "id": "fallen-criminal",
   "metadata": {},
   "outputs": [
    {
     "data": {
      "text/plain": [
       "<matplotlib.collections.PathCollection at 0x24fb3006310>"
      ]
     },
     "execution_count": 175,
     "metadata": {},
     "output_type": "execute_result"
    },
    {
     "data": {
      "image/png": "[encoded data removed]",
      "text/plain": [
       "<Figure size 576x576 with 6 Axes>"
      ]
     },
     "metadata": {
      "needs_background": "light"
     },
     "output_type": "display_data"
    }
   ],
   "source": [
    "plt.figure(figsize=(8,8))\n",
    "\n",
    "plt.subplot(2,3,1)\n",
    "#fig = plt.figure(figsize=(7,7))\n",
    "plt.title(\"PC1 vs PC2\")\n",
    "plt.scatter(x = pca_4[0], y = pca_4[1])\n",
    "\n",
    "\n",
    "plt.subplot(2,3,2)\n",
    "#fig = plt.figure(figsize=(7,7))\n",
    "plt.title(\"PC1 vs PC3\")\n",
    "plt.scatter(x = pca_4[0], y = pca_4[2])\n",
    "\n",
    "#fig = plt.figure(figsize=(7,7))\n",
    "plt.subplot(2,3,3)\n",
    "plt.title(\"PC1 vs PC4\")\n",
    "plt.scatter(x = pca_4[0], y = pca_4[3])\n",
    "\n",
    "\n",
    "#fig = plt.figure(figsize=(7,7))\n",
    "plt.subplot(2,3,4)\n",
    "plt.title(\"PC2 vs PC3\")\n",
    "plt.scatter(x = pca_4[1], y = pca_4[2])\n",
    "\n",
    "\n",
    "#fig = plt.figure(figsize=(7,7))\n",
    "plt.subplot(2,3,5)\n",
    "plt.title(\"PC2 vs PC4\")\n",
    "plt.scatter(x = pca_4[1], y = pca_4[3])\n",
    "\n",
    "#fig = plt.figure(figsize=(7,7))\n",
    "plt.subplot(2,3,6)\n",
    "plt.title(\"PC3 vs PC4\")\n",
    "plt.scatter(x = pca_4[2], y = pca_4[3])"
   ]
  },
  {
   "cell_type": "markdown",
   "id": "proud-connecticut",
   "metadata": {},
   "source": [
    "#### 2.10.1 Analysis of first four dimensions of PCA model\n",
    "\n",
    "- From above scatter plot, we are making points to compare PCA model from 1 dimension to 4 dimension.\n",
    "- As the graph will be same if we compare PCA with m x n dimensions vs n x m dimensions. So we have plotted 6 subplots ( instead of 16 ).\n",
    "\n",
    "**Comparision :**\n",
    "1. Most of the points in dimensions 1 to 4 are fall under [0.01,0.01].\n",
    "2. However from each points in scatter plot, it is cleared that all PCA dimensions are not same. That means all dimensions embedding value are not same in PCA. ( e.g. model is not getting all points which have X and Y have same values)."
   ]
  },
  {
   "cell_type": "markdown",
   "id": "outstanding-underwear",
   "metadata": {},
   "source": [
    "#### 2.10.2 How PCA embedding applied on the Word2Vec embeddings\n",
    "\n",
    "- Word2Vec is a supervised prediction model that aims at predicting the context of a word given the word (Skip-Gram) or the word given its context (Continuous Bag of Words).\n",
    "- PCA is a general unsupervised Matrix Factorization method for dimensionality reduction.\n",
    "- We can use PCA to visualize word embeddings, because the embedded space is still high-dimensional and cannot be presented for the human eyes. So PCA can be very useful to analyze word embeddings.\n",
    "- PCA works on the square covariance matrix to find a lower-dimensional projection for the original set variables such that the lower-dimensional covariance matrix still maintains much of the original variance of the original set of variables.\n"
   ]
  },
  {
   "cell_type": "markdown",
   "id": "broke-assessment",
   "metadata": {},
   "source": [
    "### 2.11 Cosine similarity in PCA\n",
    "\n",
    "- Cosine similiarity between two vectors (A and B) can be calculated using dot(A, B)/(norm(A)*norm(B)). Here norm(A) and norm(B) indicates euclidean norm of vectors respectively.\n",
    "\n",
    "**Note :** In order to build a function for cosine similarity we used scipy.spatial.distance.cosine."
   ]
  },
  {
   "cell_type": "code",
   "execution_count": 120,
   "id": "recorded-disease",
   "metadata": {},
   "outputs": [],
   "source": [
    "def cos_similarity(v1, v2):\n",
    "    return abs(1 - spatial.distance.cosine(v1,v2))"
   ]
  },
  {
   "cell_type": "code",
   "execution_count": 121,
   "id": "premium-resident",
   "metadata": {},
   "outputs": [],
   "source": [
    "pca3 = PCA(n_components =4)\n",
    "Principal_comp = pca3.fit_transform(test_emb_df)"
   ]
  },
  {
   "cell_type": "markdown",
   "id": "married-alliance",
   "metadata": {},
   "source": [
    "#### 2.11.1 Steps to perform on dataframe in order to calculate cosine similarity"
   ]
  },
  {
   "cell_type": "markdown",
   "id": "utility-communication",
   "metadata": {},
   "source": [
    "1. Created Dictonary and Dataframe to store test set words"
   ]
  },
  {
   "cell_type": "code",
   "execution_count": null,
   "id": "close-nerve",
   "metadata": {},
   "outputs": [],
   "source": [
    "my_dict = {'word':test_emb_df.columns}\n",
    "dict_df = pd.DataFrame(my_dict)"
   ]
  },
  {
   "cell_type": "markdown",
   "id": "partial-occurrence",
   "metadata": {},
   "source": [
    "2. Arranged columns in dataframe and move word column to first"
   ]
  },
  {
   "cell_type": "code",
   "execution_count": 131,
   "id": "smoking-springfield",
   "metadata": {},
   "outputs": [
    {
     "data": {
      "text/html": [
       "<div>\n",
       "<style scoped>\n",
       "    .dataframe tbody tr th:only-of-type {\n",
       "        vertical-align: middle;\n",
       "    }\n",
       "\n",
       "    .dataframe tbody tr th {\n",
       "        vertical-align: top;\n",
       "    }\n",
       "\n",
       "    .dataframe thead th {\n",
       "        text-align: right;\n",
       "    }\n",
       "</style>\n",
       "<table border=\"1\" class=\"dataframe\">\n",
       "  <thead>\n",
       "    <tr style=\"text-align: right;\">\n",
       "      <th></th>\n",
       "      <th>word</th>\n",
       "      <th>0</th>\n",
       "      <th>1</th>\n",
       "      <th>2</th>\n",
       "      <th>3</th>\n",
       "    </tr>\n",
       "  </thead>\n",
       "  <tbody>\n",
       "    <tr>\n",
       "      <th>0</th>\n",
       "      <td>global</td>\n",
       "      <td>-0.208022</td>\n",
       "      <td>-0.028763</td>\n",
       "      <td>-0.007627</td>\n",
       "      <td>-0.014650</td>\n",
       "    </tr>\n",
       "    <tr>\n",
       "      <th>1</th>\n",
       "      <td>cool</td>\n",
       "      <td>0.310110</td>\n",
       "      <td>0.002746</td>\n",
       "      <td>0.000278</td>\n",
       "      <td>-0.008928</td>\n",
       "    </tr>\n",
       "    <tr>\n",
       "      <th>2</th>\n",
       "      <td>januari</td>\n",
       "      <td>-0.013922</td>\n",
       "      <td>-0.028403</td>\n",
       "      <td>0.014315</td>\n",
       "      <td>-0.007691</td>\n",
       "    </tr>\n",
       "    <tr>\n",
       "      <th>3</th>\n",
       "      <td>hottest</td>\n",
       "      <td>0.090588</td>\n",
       "      <td>0.009651</td>\n",
       "      <td>-0.009248</td>\n",
       "      <td>-0.000387</td>\n",
       "    </tr>\n",
       "    <tr>\n",
       "      <th>4</th>\n",
       "      <td>month</td>\n",
       "      <td>-0.544951</td>\n",
       "      <td>-0.004317</td>\n",
       "      <td>-0.012025</td>\n",
       "      <td>-0.009497</td>\n",
       "    </tr>\n",
       "  </tbody>\n",
       "</table>\n",
       "</div>"
      ],
      "text/plain": [
       "      word         0         1         2         3\n",
       "0   global -0.208022 -0.028763 -0.007627 -0.014650\n",
       "1     cool  0.310110  0.002746  0.000278 -0.008928\n",
       "2  januari -0.013922 -0.028403  0.014315 -0.007691\n",
       "3  hottest  0.090588  0.009651 -0.009248 -0.000387\n",
       "4    month -0.544951 -0.004317 -0.012025 -0.009497"
      ]
     },
     "execution_count": 131,
     "metadata": {},
     "output_type": "execute_result"
    }
   ],
   "source": [
    "data = pd.DataFrame(Principal_comp)\n",
    "data['word'] = dict_df['word']\n",
    "column_names = [\"word\", 0, 1, 2, 3]\n",
    "data = data.reindex(columns = column_names)\n",
    "\n",
    "data.head()"
   ]
  },
  {
   "cell_type": "markdown",
   "id": "essential-startup",
   "metadata": {},
   "source": [
    "3. Applied transformation so that we can apply cosine similarity ( Making Dataframe same as Word2Vec)"
   ]
  },
  {
   "cell_type": "code",
   "execution_count": 132,
   "id": "apparent-consultation",
   "metadata": {},
   "outputs": [
    {
     "data": {
      "text/html": [
       "<div>\n",
       "<style scoped>\n",
       "    .dataframe tbody tr th:only-of-type {\n",
       "        vertical-align: middle;\n",
       "    }\n",
       "\n",
       "    .dataframe tbody tr th {\n",
       "        vertical-align: top;\n",
       "    }\n",
       "\n",
       "    .dataframe thead th {\n",
       "        text-align: right;\n",
       "    }\n",
       "</style>\n",
       "<table border=\"1\" class=\"dataframe\">\n",
       "  <thead>\n",
       "    <tr style=\"text-align: right;\">\n",
       "      <th></th>\n",
       "      <th>0</th>\n",
       "      <th>1</th>\n",
       "      <th>2</th>\n",
       "      <th>3</th>\n",
       "      <th>4</th>\n",
       "      <th>5</th>\n",
       "      <th>6</th>\n",
       "      <th>7</th>\n",
       "      <th>8</th>\n",
       "      <th>9</th>\n",
       "      <th>...</th>\n",
       "      <th>90</th>\n",
       "      <th>91</th>\n",
       "      <th>92</th>\n",
       "      <th>93</th>\n",
       "      <th>94</th>\n",
       "      <th>95</th>\n",
       "      <th>96</th>\n",
       "      <th>97</th>\n",
       "      <th>98</th>\n",
       "      <th>99</th>\n",
       "    </tr>\n",
       "  </thead>\n",
       "  <tbody>\n",
       "    <tr>\n",
       "      <th>word</th>\n",
       "      <td>global</td>\n",
       "      <td>cool</td>\n",
       "      <td>januari</td>\n",
       "      <td>hottest</td>\n",
       "      <td>month</td>\n",
       "      <td>ever</td>\n",
       "      <td>australia</td>\n",
       "      <td>averag</td>\n",
       "      <td>temperatur</td>\n",
       "      <td>exceed</td>\n",
       "      <td>...</td>\n",
       "      <td>occur</td>\n",
       "      <td>time</td>\n",
       "      <td>last</td>\n",
       "      <td>glacial</td>\n",
       "      <td>maximum</td>\n",
       "      <td>approach</td>\n",
       "      <td>predispos</td>\n",
       "      <td>consider</td>\n",
       "      <td>evid</td>\n",
       "      <td>recent</td>\n",
       "    </tr>\n",
       "    <tr>\n",
       "      <th>0</th>\n",
       "      <td>-0.208022</td>\n",
       "      <td>0.310110</td>\n",
       "      <td>-0.013922</td>\n",
       "      <td>0.090588</td>\n",
       "      <td>-0.544951</td>\n",
       "      <td>0.824022</td>\n",
       "      <td>0.050431</td>\n",
       "      <td>-0.203125</td>\n",
       "      <td>-0.673558</td>\n",
       "      <td>0.355714</td>\n",
       "      <td>...</td>\n",
       "      <td>0.604841</td>\n",
       "      <td>-0.147625</td>\n",
       "      <td>0.018456</td>\n",
       "      <td>0.131462</td>\n",
       "      <td>0.568355</td>\n",
       "      <td>-0.451850</td>\n",
       "      <td>-0.041424</td>\n",
       "      <td>-0.405264</td>\n",
       "      <td>0.325346</td>\n",
       "      <td>0.319725</td>\n",
       "    </tr>\n",
       "    <tr>\n",
       "      <th>1</th>\n",
       "      <td>-0.028763</td>\n",
       "      <td>0.002746</td>\n",
       "      <td>-0.028403</td>\n",
       "      <td>0.009651</td>\n",
       "      <td>-0.004317</td>\n",
       "      <td>-0.009512</td>\n",
       "      <td>-0.009532</td>\n",
       "      <td>-0.008334</td>\n",
       "      <td>0.001064</td>\n",
       "      <td>-0.022331</td>\n",
       "      <td>...</td>\n",
       "      <td>0.006989</td>\n",
       "      <td>-0.003871</td>\n",
       "      <td>0.016268</td>\n",
       "      <td>-0.003208</td>\n",
       "      <td>0.003002</td>\n",
       "      <td>-0.013602</td>\n",
       "      <td>-0.003554</td>\n",
       "      <td>-0.005998</td>\n",
       "      <td>-0.003476</td>\n",
       "      <td>0.002904</td>\n",
       "    </tr>\n",
       "    <tr>\n",
       "      <th>2</th>\n",
       "      <td>-0.007627</td>\n",
       "      <td>0.000278</td>\n",
       "      <td>0.014315</td>\n",
       "      <td>-0.009248</td>\n",
       "      <td>-0.012025</td>\n",
       "      <td>0.009320</td>\n",
       "      <td>-0.009394</td>\n",
       "      <td>-0.005431</td>\n",
       "      <td>0.019017</td>\n",
       "      <td>-0.000499</td>\n",
       "      <td>...</td>\n",
       "      <td>-0.006850</td>\n",
       "      <td>-0.004841</td>\n",
       "      <td>-0.006721</td>\n",
       "      <td>0.020478</td>\n",
       "      <td>-0.007039</td>\n",
       "      <td>0.002763</td>\n",
       "      <td>0.011604</td>\n",
       "      <td>0.010709</td>\n",
       "      <td>-0.014920</td>\n",
       "      <td>0.031279</td>\n",
       "    </tr>\n",
       "    <tr>\n",
       "      <th>3</th>\n",
       "      <td>-0.014650</td>\n",
       "      <td>-0.008928</td>\n",
       "      <td>-0.007691</td>\n",
       "      <td>-0.000387</td>\n",
       "      <td>-0.009497</td>\n",
       "      <td>0.008512</td>\n",
       "      <td>-0.023750</td>\n",
       "      <td>0.004380</td>\n",
       "      <td>0.018856</td>\n",
       "      <td>0.002524</td>\n",
       "      <td>...</td>\n",
       "      <td>-0.006438</td>\n",
       "      <td>0.011285</td>\n",
       "      <td>0.010497</td>\n",
       "      <td>-0.014443</td>\n",
       "      <td>0.011208</td>\n",
       "      <td>0.010975</td>\n",
       "      <td>0.013223</td>\n",
       "      <td>0.015033</td>\n",
       "      <td>0.023875</td>\n",
       "      <td>-0.008154</td>\n",
       "    </tr>\n",
       "  </tbody>\n",
       "</table>\n",
       "<p>5 rows × 100 columns</p>\n",
       "</div>"
      ],
      "text/plain": [
       "            0         1         2         3         4         5          6   \\\n",
       "word    global      cool   januari   hottest     month      ever  australia   \n",
       "0    -0.208022  0.310110 -0.013922  0.090588 -0.544951  0.824022   0.050431   \n",
       "1    -0.028763  0.002746 -0.028403  0.009651 -0.004317 -0.009512  -0.009532   \n",
       "2    -0.007627  0.000278  0.014315 -0.009248 -0.012025  0.009320  -0.009394   \n",
       "3    -0.014650 -0.008928 -0.007691 -0.000387 -0.009497  0.008512  -0.023750   \n",
       "\n",
       "            7           8         9   ...        90        91        92  \\\n",
       "word    averag  temperatur    exceed  ...     occur      time      last   \n",
       "0    -0.203125   -0.673558  0.355714  ...  0.604841 -0.147625  0.018456   \n",
       "1    -0.008334    0.001064 -0.022331  ...  0.006989 -0.003871  0.016268   \n",
       "2    -0.005431    0.019017 -0.000499  ... -0.006850 -0.004841 -0.006721   \n",
       "3     0.004380    0.018856  0.002524  ... -0.006438  0.011285  0.010497   \n",
       "\n",
       "            93        94        95         96        97        98        99  \n",
       "word   glacial   maximum  approach  predispos  consider      evid    recent  \n",
       "0     0.131462  0.568355 -0.451850  -0.041424 -0.405264  0.325346  0.319725  \n",
       "1    -0.003208  0.003002 -0.013602  -0.003554 -0.005998 -0.003476  0.002904  \n",
       "2     0.020478 -0.007039  0.002763   0.011604  0.010709 -0.014920  0.031279  \n",
       "3    -0.014443  0.011208  0.010975   0.013223  0.015033  0.023875 -0.008154  \n",
       "\n",
       "[5 rows x 100 columns]"
      ]
     },
     "execution_count": 132,
     "metadata": {},
     "output_type": "execute_result"
    }
   ],
   "source": [
    "data_t = data.T\n",
    "data_t.head()"
   ]
  },
  {
   "cell_type": "markdown",
   "id": "endless-beauty",
   "metadata": {},
   "source": [
    "4. Assigned columns name same  first row ( Words)"
   ]
  },
  {
   "cell_type": "code",
   "execution_count": 133,
   "id": "distinguished-metadata",
   "metadata": {},
   "outputs": [
    {
     "data": {
      "text/html": [
       "<div>\n",
       "<style scoped>\n",
       "    .dataframe tbody tr th:only-of-type {\n",
       "        vertical-align: middle;\n",
       "    }\n",
       "\n",
       "    .dataframe tbody tr th {\n",
       "        vertical-align: top;\n",
       "    }\n",
       "\n",
       "    .dataframe thead th {\n",
       "        text-align: right;\n",
       "    }\n",
       "</style>\n",
       "<table border=\"1\" class=\"dataframe\">\n",
       "  <thead>\n",
       "    <tr style=\"text-align: right;\">\n",
       "      <th>word</th>\n",
       "      <th>global</th>\n",
       "      <th>cool</th>\n",
       "      <th>januari</th>\n",
       "      <th>hottest</th>\n",
       "      <th>month</th>\n",
       "      <th>ever</th>\n",
       "      <th>australia</th>\n",
       "      <th>averag</th>\n",
       "      <th>temperatur</th>\n",
       "      <th>exceed</th>\n",
       "      <th>...</th>\n",
       "      <th>occur</th>\n",
       "      <th>time</th>\n",
       "      <th>last</th>\n",
       "      <th>glacial</th>\n",
       "      <th>maximum</th>\n",
       "      <th>approach</th>\n",
       "      <th>predispos</th>\n",
       "      <th>consider</th>\n",
       "      <th>evid</th>\n",
       "      <th>recent</th>\n",
       "    </tr>\n",
       "  </thead>\n",
       "  <tbody>\n",
       "    <tr>\n",
       "      <th>word</th>\n",
       "      <td>global</td>\n",
       "      <td>cool</td>\n",
       "      <td>januari</td>\n",
       "      <td>hottest</td>\n",
       "      <td>month</td>\n",
       "      <td>ever</td>\n",
       "      <td>australia</td>\n",
       "      <td>averag</td>\n",
       "      <td>temperatur</td>\n",
       "      <td>exceed</td>\n",
       "      <td>...</td>\n",
       "      <td>occur</td>\n",
       "      <td>time</td>\n",
       "      <td>last</td>\n",
       "      <td>glacial</td>\n",
       "      <td>maximum</td>\n",
       "      <td>approach</td>\n",
       "      <td>predispos</td>\n",
       "      <td>consider</td>\n",
       "      <td>evid</td>\n",
       "      <td>recent</td>\n",
       "    </tr>\n",
       "    <tr>\n",
       "      <th>0</th>\n",
       "      <td>-0.208022</td>\n",
       "      <td>0.310110</td>\n",
       "      <td>-0.013922</td>\n",
       "      <td>0.090588</td>\n",
       "      <td>-0.544951</td>\n",
       "      <td>0.824022</td>\n",
       "      <td>0.050431</td>\n",
       "      <td>-0.203125</td>\n",
       "      <td>-0.673558</td>\n",
       "      <td>0.355714</td>\n",
       "      <td>...</td>\n",
       "      <td>0.604841</td>\n",
       "      <td>-0.147625</td>\n",
       "      <td>0.018456</td>\n",
       "      <td>0.131462</td>\n",
       "      <td>0.568355</td>\n",
       "      <td>-0.451850</td>\n",
       "      <td>-0.041424</td>\n",
       "      <td>-0.405264</td>\n",
       "      <td>0.325346</td>\n",
       "      <td>0.319725</td>\n",
       "    </tr>\n",
       "    <tr>\n",
       "      <th>1</th>\n",
       "      <td>-0.028763</td>\n",
       "      <td>0.002746</td>\n",
       "      <td>-0.028403</td>\n",
       "      <td>0.009651</td>\n",
       "      <td>-0.004317</td>\n",
       "      <td>-0.009512</td>\n",
       "      <td>-0.009532</td>\n",
       "      <td>-0.008334</td>\n",
       "      <td>0.001064</td>\n",
       "      <td>-0.022331</td>\n",
       "      <td>...</td>\n",
       "      <td>0.006989</td>\n",
       "      <td>-0.003871</td>\n",
       "      <td>0.016268</td>\n",
       "      <td>-0.003208</td>\n",
       "      <td>0.003002</td>\n",
       "      <td>-0.013602</td>\n",
       "      <td>-0.003554</td>\n",
       "      <td>-0.005998</td>\n",
       "      <td>-0.003476</td>\n",
       "      <td>0.002904</td>\n",
       "    </tr>\n",
       "    <tr>\n",
       "      <th>2</th>\n",
       "      <td>-0.007627</td>\n",
       "      <td>0.000278</td>\n",
       "      <td>0.014315</td>\n",
       "      <td>-0.009248</td>\n",
       "      <td>-0.012025</td>\n",
       "      <td>0.009320</td>\n",
       "      <td>-0.009394</td>\n",
       "      <td>-0.005431</td>\n",
       "      <td>0.019017</td>\n",
       "      <td>-0.000499</td>\n",
       "      <td>...</td>\n",
       "      <td>-0.006850</td>\n",
       "      <td>-0.004841</td>\n",
       "      <td>-0.006721</td>\n",
       "      <td>0.020478</td>\n",
       "      <td>-0.007039</td>\n",
       "      <td>0.002763</td>\n",
       "      <td>0.011604</td>\n",
       "      <td>0.010709</td>\n",
       "      <td>-0.014920</td>\n",
       "      <td>0.031279</td>\n",
       "    </tr>\n",
       "    <tr>\n",
       "      <th>3</th>\n",
       "      <td>-0.014650</td>\n",
       "      <td>-0.008928</td>\n",
       "      <td>-0.007691</td>\n",
       "      <td>-0.000387</td>\n",
       "      <td>-0.009497</td>\n",
       "      <td>0.008512</td>\n",
       "      <td>-0.023750</td>\n",
       "      <td>0.004380</td>\n",
       "      <td>0.018856</td>\n",
       "      <td>0.002524</td>\n",
       "      <td>...</td>\n",
       "      <td>-0.006438</td>\n",
       "      <td>0.011285</td>\n",
       "      <td>0.010497</td>\n",
       "      <td>-0.014443</td>\n",
       "      <td>0.011208</td>\n",
       "      <td>0.010975</td>\n",
       "      <td>0.013223</td>\n",
       "      <td>0.015033</td>\n",
       "      <td>0.023875</td>\n",
       "      <td>-0.008154</td>\n",
       "    </tr>\n",
       "  </tbody>\n",
       "</table>\n",
       "<p>5 rows × 100 columns</p>\n",
       "</div>"
      ],
      "text/plain": [
       "word    global      cool   januari   hottest     month      ever  australia  \\\n",
       "word    global      cool   januari   hottest     month      ever  australia   \n",
       "0    -0.208022  0.310110 -0.013922  0.090588 -0.544951  0.824022   0.050431   \n",
       "1    -0.028763  0.002746 -0.028403  0.009651 -0.004317 -0.009512  -0.009532   \n",
       "2    -0.007627  0.000278  0.014315 -0.009248 -0.012025  0.009320  -0.009394   \n",
       "3    -0.014650 -0.008928 -0.007691 -0.000387 -0.009497  0.008512  -0.023750   \n",
       "\n",
       "word    averag  temperatur    exceed  ...     occur      time      last  \\\n",
       "word    averag  temperatur    exceed  ...     occur      time      last   \n",
       "0    -0.203125   -0.673558  0.355714  ...  0.604841 -0.147625  0.018456   \n",
       "1    -0.008334    0.001064 -0.022331  ...  0.006989 -0.003871  0.016268   \n",
       "2    -0.005431    0.019017 -0.000499  ... -0.006850 -0.004841 -0.006721   \n",
       "3     0.004380    0.018856  0.002524  ... -0.006438  0.011285  0.010497   \n",
       "\n",
       "word   glacial   maximum  approach  predispos  consider      evid    recent  \n",
       "word   glacial   maximum  approach  predispos  consider      evid    recent  \n",
       "0     0.131462  0.568355 -0.451850  -0.041424 -0.405264  0.325346  0.319725  \n",
       "1    -0.003208  0.003002 -0.013602  -0.003554 -0.005998 -0.003476  0.002904  \n",
       "2     0.020478 -0.007039  0.002763   0.011604  0.010709 -0.014920  0.031279  \n",
       "3    -0.014443  0.011208  0.010975   0.013223  0.015033  0.023875 -0.008154  \n",
       "\n",
       "[5 rows x 100 columns]"
      ]
     },
     "execution_count": 133,
     "metadata": {},
     "output_type": "execute_result"
    }
   ],
   "source": [
    "header_row = 0\n",
    "data_t.columns = data_t.iloc[header_row]\n",
    "data_t.head()"
   ]
  },
  {
   "cell_type": "markdown",
   "id": "colored-forum",
   "metadata": {},
   "source": [
    "5. Removed 1st row as words are now moved as column names"
   ]
  },
  {
   "cell_type": "code",
   "execution_count": 134,
   "id": "unauthorized-drink",
   "metadata": {},
   "outputs": [
    {
     "data": {
      "text/html": [
       "<div>\n",
       "<style scoped>\n",
       "    .dataframe tbody tr th:only-of-type {\n",
       "        vertical-align: middle;\n",
       "    }\n",
       "\n",
       "    .dataframe tbody tr th {\n",
       "        vertical-align: top;\n",
       "    }\n",
       "\n",
       "    .dataframe thead th {\n",
       "        text-align: right;\n",
       "    }\n",
       "</style>\n",
       "<table border=\"1\" class=\"dataframe\">\n",
       "  <thead>\n",
       "    <tr style=\"text-align: right;\">\n",
       "      <th>word</th>\n",
       "      <th>global</th>\n",
       "      <th>cool</th>\n",
       "      <th>januari</th>\n",
       "      <th>hottest</th>\n",
       "      <th>month</th>\n",
       "      <th>ever</th>\n",
       "      <th>australia</th>\n",
       "      <th>averag</th>\n",
       "      <th>temperatur</th>\n",
       "      <th>exceed</th>\n",
       "      <th>...</th>\n",
       "      <th>occur</th>\n",
       "      <th>time</th>\n",
       "      <th>last</th>\n",
       "      <th>glacial</th>\n",
       "      <th>maximum</th>\n",
       "      <th>approach</th>\n",
       "      <th>predispos</th>\n",
       "      <th>consider</th>\n",
       "      <th>evid</th>\n",
       "      <th>recent</th>\n",
       "    </tr>\n",
       "  </thead>\n",
       "  <tbody>\n",
       "    <tr>\n",
       "      <th>0</th>\n",
       "      <td>-0.208022</td>\n",
       "      <td>0.310110</td>\n",
       "      <td>-0.013922</td>\n",
       "      <td>0.090588</td>\n",
       "      <td>-0.544951</td>\n",
       "      <td>0.824022</td>\n",
       "      <td>0.050431</td>\n",
       "      <td>-0.203125</td>\n",
       "      <td>-0.673558</td>\n",
       "      <td>0.355714</td>\n",
       "      <td>...</td>\n",
       "      <td>0.604841</td>\n",
       "      <td>-0.147625</td>\n",
       "      <td>0.018456</td>\n",
       "      <td>0.131462</td>\n",
       "      <td>0.568355</td>\n",
       "      <td>-0.451850</td>\n",
       "      <td>-0.041424</td>\n",
       "      <td>-0.405264</td>\n",
       "      <td>0.325346</td>\n",
       "      <td>0.319725</td>\n",
       "    </tr>\n",
       "    <tr>\n",
       "      <th>1</th>\n",
       "      <td>-0.028763</td>\n",
       "      <td>0.002746</td>\n",
       "      <td>-0.028403</td>\n",
       "      <td>0.009651</td>\n",
       "      <td>-0.004317</td>\n",
       "      <td>-0.009512</td>\n",
       "      <td>-0.009532</td>\n",
       "      <td>-0.008334</td>\n",
       "      <td>0.001064</td>\n",
       "      <td>-0.022331</td>\n",
       "      <td>...</td>\n",
       "      <td>0.006989</td>\n",
       "      <td>-0.003871</td>\n",
       "      <td>0.016268</td>\n",
       "      <td>-0.003208</td>\n",
       "      <td>0.003002</td>\n",
       "      <td>-0.013602</td>\n",
       "      <td>-0.003554</td>\n",
       "      <td>-0.005998</td>\n",
       "      <td>-0.003476</td>\n",
       "      <td>0.002904</td>\n",
       "    </tr>\n",
       "    <tr>\n",
       "      <th>2</th>\n",
       "      <td>-0.007627</td>\n",
       "      <td>0.000278</td>\n",
       "      <td>0.014315</td>\n",
       "      <td>-0.009248</td>\n",
       "      <td>-0.012025</td>\n",
       "      <td>0.009320</td>\n",
       "      <td>-0.009394</td>\n",
       "      <td>-0.005431</td>\n",
       "      <td>0.019017</td>\n",
       "      <td>-0.000499</td>\n",
       "      <td>...</td>\n",
       "      <td>-0.006850</td>\n",
       "      <td>-0.004841</td>\n",
       "      <td>-0.006721</td>\n",
       "      <td>0.020478</td>\n",
       "      <td>-0.007039</td>\n",
       "      <td>0.002763</td>\n",
       "      <td>0.011604</td>\n",
       "      <td>0.010709</td>\n",
       "      <td>-0.014920</td>\n",
       "      <td>0.031279</td>\n",
       "    </tr>\n",
       "    <tr>\n",
       "      <th>3</th>\n",
       "      <td>-0.014650</td>\n",
       "      <td>-0.008928</td>\n",
       "      <td>-0.007691</td>\n",
       "      <td>-0.000387</td>\n",
       "      <td>-0.009497</td>\n",
       "      <td>0.008512</td>\n",
       "      <td>-0.023750</td>\n",
       "      <td>0.004380</td>\n",
       "      <td>0.018856</td>\n",
       "      <td>0.002524</td>\n",
       "      <td>...</td>\n",
       "      <td>-0.006438</td>\n",
       "      <td>0.011285</td>\n",
       "      <td>0.010497</td>\n",
       "      <td>-0.014443</td>\n",
       "      <td>0.011208</td>\n",
       "      <td>0.010975</td>\n",
       "      <td>0.013223</td>\n",
       "      <td>0.015033</td>\n",
       "      <td>0.023875</td>\n",
       "      <td>-0.008154</td>\n",
       "    </tr>\n",
       "  </tbody>\n",
       "</table>\n",
       "<p>4 rows × 100 columns</p>\n",
       "</div>"
      ],
      "text/plain": [
       "word    global      cool   januari   hottest     month      ever australia  \\\n",
       "0    -0.208022  0.310110 -0.013922  0.090588 -0.544951  0.824022  0.050431   \n",
       "1    -0.028763  0.002746 -0.028403  0.009651 -0.004317 -0.009512 -0.009532   \n",
       "2    -0.007627  0.000278  0.014315 -0.009248 -0.012025  0.009320 -0.009394   \n",
       "3    -0.014650 -0.008928 -0.007691 -0.000387 -0.009497  0.008512 -0.023750   \n",
       "\n",
       "word    averag temperatur    exceed  ...     occur      time      last  \\\n",
       "0    -0.203125  -0.673558  0.355714  ...  0.604841 -0.147625  0.018456   \n",
       "1    -0.008334   0.001064 -0.022331  ...  0.006989 -0.003871  0.016268   \n",
       "2    -0.005431   0.019017 -0.000499  ... -0.006850 -0.004841 -0.006721   \n",
       "3     0.004380   0.018856  0.002524  ... -0.006438  0.011285  0.010497   \n",
       "\n",
       "word   glacial   maximum  approach predispos  consider      evid    recent  \n",
       "0     0.131462  0.568355 -0.451850 -0.041424 -0.405264  0.325346  0.319725  \n",
       "1    -0.003208  0.003002 -0.013602 -0.003554 -0.005998 -0.003476  0.002904  \n",
       "2     0.020478 -0.007039  0.002763  0.011604  0.010709 -0.014920  0.031279  \n",
       "3    -0.014443  0.011208  0.010975  0.013223  0.015033  0.023875 -0.008154  \n",
       "\n",
       "[4 rows x 100 columns]"
      ]
     },
     "execution_count": 134,
     "metadata": {},
     "output_type": "execute_result"
    }
   ],
   "source": [
    "data_t = data_t.iloc[1:]\n",
    "data_t.head()"
   ]
  },
  {
   "cell_type": "markdown",
   "id": "blind-poetry",
   "metadata": {},
   "source": [
    "6. Words available to apply cosine similarity can be found by fetching column names"
   ]
  },
  {
   "cell_type": "code",
   "execution_count": 135,
   "id": "suburban-territory",
   "metadata": {},
   "outputs": [
    {
     "data": {
      "text/plain": [
       "Index(['global', 'cool', 'januari', 'hottest', 'month', 'ever', 'australia',\n",
       "       'averag', 'temperatur', 'exceed', 'c', 'f', 'ipcc', 'publish', 'five',\n",
       "       'comprehens', 'assess', 'report', 'review', 'latest', 'climat',\n",
       "       'scienc', 'well', 'number', 'special', 'particular', 'topic', 'wind',\n",
       "       'power', 'scientif', 'consensu', 'chang', 'turbin', 'windmil', 'like',\n",
       "       'structur', 'specif', 'develop', 'gener', 'electr', 'critic', 'stem',\n",
       "       'fact', 'phrase', 'intellig', 'design', 'make', 'use', 'assumpt',\n",
       "       'qualiti', 'observ', 'concept', 'definit', 'conscious', 'particul',\n",
       "       'project', 'appli', 'end', 'st', 'centuri', 'rel', 'th', 'earth',\n",
       "       'increas', 'surfac', 'acceler', 'inorgan', 'carbon', 'cycl', 'reduc',\n",
       "       'co', 'concentr', 'level', 'lethal', 'low', 'plant', 'ppm',\n",
       "       'photosynthesi', 'approxim', 'million', 'year', 'postul', 'period',\n",
       "       'coincid', 'cluster', 'volcano', 'collaps', 'event', 'perhap', 'warm',\n",
       "       'occur', 'time', 'last', 'glacial', 'maximum', 'approach', 'predispos',\n",
       "       'consider', 'evid', 'recent'],\n",
       "      dtype='object', name='word')"
      ]
     },
     "execution_count": 135,
     "metadata": {},
     "output_type": "execute_result"
    }
   ],
   "source": [
    "data_t.columns"
   ]
  },
  {
   "cell_type": "code",
   "execution_count": 136,
   "id": "latest-period",
   "metadata": {},
   "outputs": [],
   "source": [
    "data_t = data_t.astype(\"float32\")"
   ]
  },
  {
   "cell_type": "markdown",
   "id": "other-hydrogen",
   "metadata": {},
   "source": [
    "#### 2.11.2 Cosine similarity on test set for PCA model"
   ]
  },
  {
   "cell_type": "code",
   "execution_count": 168,
   "id": "expanded-thanksgiving",
   "metadata": {},
   "outputs": [
    {
     "name": "stdout",
     "output_type": "stream",
     "text": [
      "The Cosine Similarity between 'global' and 'warm': 0.9762625098228455.\n",
      "The Cosine Similarity between 'climat' and 'chang': 0.9416069388389587.\n",
      "The Cosine Similarity between 'month' and 'year': 0.9984747767448425.\n",
      "The Cosine Similarity between 'time' and 'million': 0.671112596988678.\n",
      "The Cosine Similarity between 'recent' and 'period': 0.7630232572555542.\n",
      "The Cosine Similarity between 'fact' and 'assumpt': 0.5497466921806335.\n"
     ]
    }
   ],
   "source": [
    "ex6 = cos_similarity(data_t[\"global\"], data_t[\"warm\"])\n",
    "print(f\"The Cosine Similarity between 'global' and 'warm': {ex6}.\")\n",
    "\n",
    "ex7 =cos_similarity(data_t[\"climat\"], data_t[\"chang\"])\n",
    "print(f\"The Cosine Similarity between 'climat' and 'chang': {ex7}.\")\n",
    "\n",
    "ex8 = cos_similarity(data_t[\"month\"], data_t[\"year\"])\n",
    "print(f\"The Cosine Similarity between 'month' and 'year': {ex8}.\")\n",
    "\n",
    "ex9 = cos_similarity(data_t[\"time\"], data_t[\"million\"])\n",
    "print(f\"The Cosine Similarity between 'time' and 'million': {ex9}.\")\n",
    "\n",
    "ex12 = cos_similarity(data_t[\"recent\"], data_t[\"period\"])\n",
    "print(f\"The Cosine Similarity between 'recent' and 'period': {ex12}.\")\n",
    "\n",
    "ex13 = cos_similarity(data_t[\"fact\"], data_t[\"assumpt\"])\n",
    "print(f\"The Cosine Similarity between 'fact' and 'assumpt': {ex13}.\")"
   ]
  },
  {
   "cell_type": "markdown",
   "id": "broad-subscription",
   "metadata": {},
   "source": [
    "#### 2.11.3 Cosine similarity on test set for Word2Vec model ( Using same words which was choosen in PCA cosine similarity )"
   ]
  },
  {
   "cell_type": "code",
   "execution_count": 173,
   "id": "stock-microphone",
   "metadata": {},
   "outputs": [
    {
     "name": "stdout",
     "output_type": "stream",
     "text": [
      "The Cosine Similarity between 'global' and 'warm': 0.990479052066803.\n",
      "The Cosine Similarity between 'climat' and 'chang': 0.996075451374054.\n",
      "The Cosine Similarity between 'month' and 'year': 0.8870692253112793.\n",
      "The Cosine Similarity between 'time' and 'million': 0.9666134715080261.\n",
      "The Cosine Similarity between 'recent' and 'period': 0.9881159663200378.\n",
      "The Cosine Similarity between 'fact' and 'assumpt': 0.283026784658432.\n"
     ]
    }
   ],
   "source": [
    "ex1 = cos_similarity(embedding_test[\"global\"], embedding_test[\"warm\"])\n",
    "print(f\"The Cosine Similarity between 'global' and 'warm': {ex1}.\")\n",
    "\n",
    "ex2 =cos_similarity(embedding_train[\"climat\"], embedding_test[\"chang\"])\n",
    "print(f\"The Cosine Similarity between 'climat' and 'chang': {ex2}.\")\n",
    "\n",
    "ex3 = cos_similarity(embedding_test[\"month\"], embedding_test[\"year\"])\n",
    "print(f\"The Cosine Similarity between 'month' and 'year': {ex3}.\")\n",
    "\n",
    "ex4 = cos_similarity(embedding_test[\"time\"], embedding_test[\"million\"])\n",
    "print(f\"The Cosine Similarity between 'time' and 'million': {ex4}.\")\n",
    "\n",
    "ex5 = cos_similarity(embedding_test[\"recent\"], embedding_test[\"period\"])\n",
    "print(f\"The Cosine Similarity between 'recent' and 'period': {ex5}.\")\n",
    "\n",
    "ex6 = cos_similarity(embedding_test[\"fact\"], embedding_test['assumpt'])\n",
    "print(f\"The Cosine Similarity between 'fact' and 'assumpt': {ex6}.\")"
   ]
  },
  {
   "cell_type": "markdown",
   "id": "built-milan",
   "metadata": {},
   "source": [
    "#### 2.11.4 Analysis and comparison of cosine similarity in PCA and Word2Vec model\n",
    "\n",
    "- From above result it is clear that cosine similarity will not remain same in PCA.\n",
    "- Moreover Word2Vec model maps words to real number vectors, at the same time capturing something about the meaning of the text. It says that if two words have similar meaning they will lie close to each other in the dense space.\n",
    "- Whereas PCA model represents these word vectors in a n-dimensional space using matplotlib.\n",
    "- Hence we can see change in cosine similarty value in words.\n",
    "\n",
    "\n",
    "**Note :**\n",
    "\n",
    "- We also analyze that many words cosine similarity value near to 1  in PCA model (Compare to word2Vec) due to dimensionality reduction."
   ]
  }
 ],
 "metadata": {
  "kernelspec": {
   "display_name": "Python 3",
   "language": "python",
   "name": "python3"
  },
  "language_info": {
   "codemirror_mode": {
    "name": "ipython",
    "version": 3
   },
   "file_extension": ".py",
   "mimetype": "text/x-python",
   "name": "python",
   "nbconvert_exporter": "python",
   "pygments_lexer": "ipython3",
   "version": "3.9.1"
  }
 },
 "nbformat": 4,
 "nbformat_minor": 5
}
